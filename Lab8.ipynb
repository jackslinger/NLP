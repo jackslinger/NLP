{
 "cells": [
  {
   "cell_type": "code",
   "execution_count": 8,
   "metadata": {
    "collapsed": true
   },
   "outputs": [],
   "source": [
    "import numpy as np\n",
    "import os\n",
    "import json\n",
    "import collections as col\n",
    "import re\n",
    "from nltk.corpus import stopwords\n",
    "from sklearn.feature_extraction import DictVectorizer\n",
    "from scipy.sparse import csr_matrix\n",
    "from sklearn.linear_model import Perceptron\n",
    "from sklearn.metrics import confusion_matrix\n",
    "from sklearn.metrics import classification_report\n",
    "import matplotlib.pyplot as plt\n",
    "%matplotlib inline"
   ]
  },
  {
   "cell_type": "code",
   "execution_count": 14,
   "metadata": {
    "collapsed": true
   },
   "outputs": [],
   "source": [
    "TRAINING_PATH = '/home/jack/Downloads/snli_1.0/snli_1.0_train.jsonl'\n",
    "DEV_PATH = '/home/jack/Downloads/snli_1.0/snli_1.0_dev.jsonl'\n",
    "TEST_PATH = '/home/jack/Downloads/removable/USB_DISK/snli_1.0/snli_1.0_test.jsonl'\n",
    "\n",
    "TRAINING_VECTORS_PATH = '/home/jack/NLP/csr.npz'\n",
    "DEV_VECTORS_PATH = '/home/jack/NLP/dev_csr.npz'\n",
    "TEST_VECTORS_PATH = ''\n",
    "\n",
    "SAVE_TO_FILE = False\n",
    "LOAD_FROM_FILE = False\n",
    "\n",
    "STOP = stopwords.words('english')"
   ]
  },
  {
   "cell_type": "code",
   "execution_count": 10,
   "metadata": {
    "collapsed": true
   },
   "outputs": [],
   "source": [
    "def save_sparse_vectors(file_name, array, labels):\n",
    "    np.savez(file_name, data = array.data, indices = array.indices, indptr = array.indptr, shape = array.shape, label_data = labels)\n",
    "\n",
    "def load_sparse_vectors(file_name):\n",
    "    loader = np.load(file_name)\n",
    "    return (csr_matrix((loader['data'], loader['indices'], loader['indptr']), shape = loader['shape']), loader['label_data'])"
   ]
  },
  {
   "cell_type": "code",
   "execution_count": 11,
   "metadata": {
    "collapsed": true
   },
   "outputs": [],
   "source": [
    "def pos_stoplist(pos):\n",
    "    return pos == 'NN' or pos == 'JJ' or 'VB' in pos\n",
    "\n",
    "def pos_strip(sentence_parse, stoplist_function):\n",
    "    m = re.finditer('\\((\\w+) (\\w+)\\)', sentence_parse)\n",
    "    tags = [(match.group(2), match.group(1)) for match in m if stoplist_function(match.group(1))]\n",
    "    return tags\n",
    "\n",
    "def extract_pair(line):\n",
    "    json_pair = json.loads(line)\n",
    "    pair = {'sentence1': json_pair['sentence1'],\n",
    "            'sentence1_pos': pos_strip(json_pair['sentence1_parse'], pos_stoplist),\n",
    "            'sentence2': json_pair['sentence2'],\n",
    "            'sentence2_pos': pos_strip(json_pair['sentence2_parse'], pos_stoplist),\n",
    "            'label': json_pair['gold_label']}\n",
    "    return pair"
   ]
  },
  {
   "cell_type": "code",
   "execution_count": 12,
   "metadata": {
    "collapsed": true
   },
   "outputs": [],
   "source": [
    "def cross_unigram_counter(pair):\n",
    "    cross_unigrams = []\n",
    "    for word1 in pair['sentence1']:\n",
    "        for word2 in pair['sentence2']:\n",
    "            cross_unigrams.append((word1, word2))\n",
    "\n",
    "    return col.Counter(cross_unigrams)\n",
    "\n",
    "def cross_unigram_stoplist_counter(pair):\n",
    "    sentence1 = (word for word in pair['sentence1'] if word not in STOP)\n",
    "    sentence2 = (word for word in pair['sentence2'] if word not in STOP)\n",
    "    \n",
    "    cross_unigrams = []\n",
    "    for word1 in sentence1:\n",
    "        for word2 in sentence2:\n",
    "            cross_unigrams.append(hash((word1, word2)))\n",
    "\n",
    "    return col.Counter(cross_unigrams)\n",
    "\n",
    "def cross_unigram_pos_counter(pair):\n",
    "    cross_unigrams = []\n",
    "    for word1 in pair['sentence1_pos']:\n",
    "        for word2 in pair['sentence2_pos']:\n",
    "            cross_unigrams.append((word1, word2))\n",
    "\n",
    "    return col.Counter(cross_unigrams)\n",
    "\n",
    "def cross_unigram_pos_justwords_counter(pair):\n",
    "    cross_unigrams = []\n",
    "    for word1 in pair['sentence1_pos']:\n",
    "        for word2 in pair['sentence2_pos']:\n",
    "            cross_unigrams.append((word1[0], word2[0]))\n",
    "\n",
    "    return col.Counter(cross_unigrams)\n",
    "\n",
    "def extract_pairs(file_path):\n",
    "    with open(file_path, 'rb') as f:\n",
    "        for line in f:\n",
    "            yield extract_pair(line)\n",
    "\n",
    "def extract_counters(pairs, feature_extractor):\n",
    "    for pair in pairs:\n",
    "        yield feature_extractor(pair)\n",
    "\n",
    "def calculate_vectors(training_path, testing_path, feature_extractor):\n",
    "#     print 'Calculating Training Vectors'\n",
    "#     pairs = []\n",
    "#     with open(training_path, 'rb') as f:\n",
    "#         count = samples\n",
    "#         for line in f:\n",
    "#             pairs.append(extract_pair(line))\n",
    "#             if count == 0:\n",
    "#                 break\n",
    "#             else:\n",
    "#                 count -= 1\n",
    "\n",
    "#     print 'Calculating Testing Vectors'\n",
    "#     dev_pairs = []\n",
    "#     with open(testing_path, 'rb') as f:\n",
    "#         count = samples\n",
    "#         for line in f:\n",
    "#             dev_pairs.append(extract_pair(line))\n",
    "#             if count == 0:\n",
    "#                 break\n",
    "#             else:\n",
    "#                 count -= 1\n",
    "\n",
    "\n",
    "    print 'Calculating Cross Unigrams'\n",
    "#     labels = [pair['label'] for pair in pairs]\n",
    "#     dev_labels = [pair['label'] for pair in dev_pairs]\n",
    "    labels = [pair['label'] for pair in extract_pairs(training_path)]\n",
    "    dev_labels = [pair['label'] for pair in extract_pairs(testing_path)]\n",
    "    \n",
    "#     counters = [feature_extractor(pair) for pair in pairs]\n",
    "#     dev_counters = [feature_extractor(pair) for pair in dev_pairs]\n",
    " \n",
    "    print 'Training Vectorizer'\n",
    "    vectorizer = DictVectorizer()\n",
    "    vectorizer.fit(extract_counters(extract_pairs(training_path), feature_extractor))\n",
    "\n",
    "    print 'Vectorizing unigrams'\n",
    "    vectors = vectorizer.transform(extract_counters(extract_pairs(training_path), feature_extractor))\n",
    "    dev_vectors = vectorizer.transform(extract_counters(extract_pairs(testing_path), feature_extractor))\n",
    "\n",
    "    if SAVE_TO_FILE:\n",
    "        print 'Saving to File'\n",
    "        save_sparse_vectors(TRAINING_PATH, vectors, labels)\n",
    "        save_sparse_vectors(DEV_PATH, dev_vectors, dev_labels)\n",
    "\n",
    "    return (vectors, labels, dev_vectors, dev_labels)"
   ]
  },
  {
   "cell_type": "code",
   "execution_count": 98,
   "metadata": {
    "collapsed": false
   },
   "outputs": [
    {
     "name": "stdout",
     "output_type": "stream",
     "text": [
      "Computing feature vectors\n",
      "Calculating Training Vectors\n",
      "Calculating Testing Vectors\n",
      "Calculating Cross Unigrams\n",
      "Training Vectorizer\n",
      "Vectorizing unigrams\n"
     ]
    }
   ],
   "source": [
    "if LOAD_FROM_FILE:\n",
    "    try:\n",
    "        vectors, labels = load_sparse_vectors(TRAINING_VECTORS_PATH)\n",
    "        dev_vectors, dev_labels = load_sparse_vectors(DEV_VECTORS_PATH)\n",
    "        print 'Loaded Vectors from File'\n",
    "    except Exception as e:\n",
    "        print 'Failed to load from File calculating feature vectors'\n",
    "        vectors, labels, dev_vectors, dev_labels = calculate_vectors(TRAINING_PATH, DEV_PATH)\n",
    "else:\n",
    "    print 'Computing feature vectors'\n",
    "    vectors, labels, dev_vectors, dev_labels = calculate_vectors(TRAINING_PATH, DEV_PATH)"
   ]
  },
  {
   "cell_type": "code",
   "execution_count": 16,
   "metadata": {
    "collapsed": false
   },
   "outputs": [
    {
     "name": "stdout",
     "output_type": "stream",
     "text": [
      "Calculating Cross Unigrams\n"
     ]
    },
    {
     "ename": "KeyboardInterrupt",
     "evalue": "",
     "output_type": "error",
     "traceback": [
      "\u001b[1;31m---------------------------------------------------------------------------\u001b[0m",
      "\u001b[1;31mKeyboardInterrupt\u001b[0m                         Traceback (most recent call last)",
      "\u001b[1;32m<ipython-input-16-95f4c27695db>\u001b[0m in \u001b[0;36m<module>\u001b[1;34m()\u001b[0m\n\u001b[1;32m----> 1\u001b[1;33m \u001b[0mget_ipython\u001b[0m\u001b[1;33m(\u001b[0m\u001b[1;33m)\u001b[0m\u001b[1;33m.\u001b[0m\u001b[0mmagic\u001b[0m\u001b[1;33m(\u001b[0m\u001b[1;34mu'time vectors, labels, dev_vectors, dev_labels = calculate_vectors(TRAINING_PATH, DEV_PATH, cross_unigram_counter)'\u001b[0m\u001b[1;33m)\u001b[0m\u001b[1;33m\u001b[0m\u001b[0m\n\u001b[0m\u001b[0;32m      2\u001b[0m \u001b[1;32mprint\u001b[0m \u001b[0mvectors\u001b[0m\u001b[1;33m.\u001b[0m\u001b[0mshape\u001b[0m\u001b[1;33m\u001b[0m\u001b[0m\n",
      "\u001b[1;32m/home/jack/anaconda2/lib/python2.7/site-packages/IPython/core/interactiveshell.pyc\u001b[0m in \u001b[0;36mmagic\u001b[1;34m(self, arg_s)\u001b[0m\n\u001b[0;32m   2161\u001b[0m         \u001b[0mmagic_name\u001b[0m\u001b[1;33m,\u001b[0m \u001b[0m_\u001b[0m\u001b[1;33m,\u001b[0m \u001b[0mmagic_arg_s\u001b[0m \u001b[1;33m=\u001b[0m \u001b[0marg_s\u001b[0m\u001b[1;33m.\u001b[0m\u001b[0mpartition\u001b[0m\u001b[1;33m(\u001b[0m\u001b[1;34m' '\u001b[0m\u001b[1;33m)\u001b[0m\u001b[1;33m\u001b[0m\u001b[0m\n\u001b[0;32m   2162\u001b[0m         \u001b[0mmagic_name\u001b[0m \u001b[1;33m=\u001b[0m \u001b[0mmagic_name\u001b[0m\u001b[1;33m.\u001b[0m\u001b[0mlstrip\u001b[0m\u001b[1;33m(\u001b[0m\u001b[0mprefilter\u001b[0m\u001b[1;33m.\u001b[0m\u001b[0mESC_MAGIC\u001b[0m\u001b[1;33m)\u001b[0m\u001b[1;33m\u001b[0m\u001b[0m\n\u001b[1;32m-> 2163\u001b[1;33m         \u001b[1;32mreturn\u001b[0m \u001b[0mself\u001b[0m\u001b[1;33m.\u001b[0m\u001b[0mrun_line_magic\u001b[0m\u001b[1;33m(\u001b[0m\u001b[0mmagic_name\u001b[0m\u001b[1;33m,\u001b[0m \u001b[0mmagic_arg_s\u001b[0m\u001b[1;33m)\u001b[0m\u001b[1;33m\u001b[0m\u001b[0m\n\u001b[0m\u001b[0;32m   2164\u001b[0m \u001b[1;33m\u001b[0m\u001b[0m\n\u001b[0;32m   2165\u001b[0m     \u001b[1;31m#-------------------------------------------------------------------------\u001b[0m\u001b[1;33m\u001b[0m\u001b[1;33m\u001b[0m\u001b[0m\n",
      "\u001b[1;32m/home/jack/anaconda2/lib/python2.7/site-packages/IPython/core/interactiveshell.pyc\u001b[0m in \u001b[0;36mrun_line_magic\u001b[1;34m(self, magic_name, line)\u001b[0m\n\u001b[0;32m   2082\u001b[0m                 \u001b[0mkwargs\u001b[0m\u001b[1;33m[\u001b[0m\u001b[1;34m'local_ns'\u001b[0m\u001b[1;33m]\u001b[0m \u001b[1;33m=\u001b[0m \u001b[0msys\u001b[0m\u001b[1;33m.\u001b[0m\u001b[0m_getframe\u001b[0m\u001b[1;33m(\u001b[0m\u001b[0mstack_depth\u001b[0m\u001b[1;33m)\u001b[0m\u001b[1;33m.\u001b[0m\u001b[0mf_locals\u001b[0m\u001b[1;33m\u001b[0m\u001b[0m\n\u001b[0;32m   2083\u001b[0m             \u001b[1;32mwith\u001b[0m \u001b[0mself\u001b[0m\u001b[1;33m.\u001b[0m\u001b[0mbuiltin_trap\u001b[0m\u001b[1;33m:\u001b[0m\u001b[1;33m\u001b[0m\u001b[0m\n\u001b[1;32m-> 2084\u001b[1;33m                 \u001b[0mresult\u001b[0m \u001b[1;33m=\u001b[0m \u001b[0mfn\u001b[0m\u001b[1;33m(\u001b[0m\u001b[1;33m*\u001b[0m\u001b[0margs\u001b[0m\u001b[1;33m,\u001b[0m\u001b[1;33m**\u001b[0m\u001b[0mkwargs\u001b[0m\u001b[1;33m)\u001b[0m\u001b[1;33m\u001b[0m\u001b[0m\n\u001b[0m\u001b[0;32m   2085\u001b[0m             \u001b[1;32mreturn\u001b[0m \u001b[0mresult\u001b[0m\u001b[1;33m\u001b[0m\u001b[0m\n\u001b[0;32m   2086\u001b[0m \u001b[1;33m\u001b[0m\u001b[0m\n",
      "\u001b[1;32m<decorator-gen-60>\u001b[0m in \u001b[0;36mtime\u001b[1;34m(self, line, cell, local_ns)\u001b[0m\n",
      "\u001b[1;32m/home/jack/anaconda2/lib/python2.7/site-packages/IPython/core/magic.pyc\u001b[0m in \u001b[0;36m<lambda>\u001b[1;34m(f, *a, **k)\u001b[0m\n\u001b[0;32m    191\u001b[0m     \u001b[1;31m# but it's overkill for just that one bit of state.\u001b[0m\u001b[1;33m\u001b[0m\u001b[1;33m\u001b[0m\u001b[0m\n\u001b[0;32m    192\u001b[0m     \u001b[1;32mdef\u001b[0m \u001b[0mmagic_deco\u001b[0m\u001b[1;33m(\u001b[0m\u001b[0marg\u001b[0m\u001b[1;33m)\u001b[0m\u001b[1;33m:\u001b[0m\u001b[1;33m\u001b[0m\u001b[0m\n\u001b[1;32m--> 193\u001b[1;33m         \u001b[0mcall\u001b[0m \u001b[1;33m=\u001b[0m \u001b[1;32mlambda\u001b[0m \u001b[0mf\u001b[0m\u001b[1;33m,\u001b[0m \u001b[1;33m*\u001b[0m\u001b[0ma\u001b[0m\u001b[1;33m,\u001b[0m \u001b[1;33m**\u001b[0m\u001b[0mk\u001b[0m\u001b[1;33m:\u001b[0m \u001b[0mf\u001b[0m\u001b[1;33m(\u001b[0m\u001b[1;33m*\u001b[0m\u001b[0ma\u001b[0m\u001b[1;33m,\u001b[0m \u001b[1;33m**\u001b[0m\u001b[0mk\u001b[0m\u001b[1;33m)\u001b[0m\u001b[1;33m\u001b[0m\u001b[0m\n\u001b[0m\u001b[0;32m    194\u001b[0m \u001b[1;33m\u001b[0m\u001b[0m\n\u001b[0;32m    195\u001b[0m         \u001b[1;32mif\u001b[0m \u001b[0mcallable\u001b[0m\u001b[1;33m(\u001b[0m\u001b[0marg\u001b[0m\u001b[1;33m)\u001b[0m\u001b[1;33m:\u001b[0m\u001b[1;33m\u001b[0m\u001b[0m\n",
      "\u001b[1;32m/home/jack/anaconda2/lib/python2.7/site-packages/IPython/core/magics/execution.pyc\u001b[0m in \u001b[0;36mtime\u001b[1;34m(self, line, cell, local_ns)\u001b[0m\n\u001b[0;32m   1175\u001b[0m         \u001b[1;32melse\u001b[0m\u001b[1;33m:\u001b[0m\u001b[1;33m\u001b[0m\u001b[0m\n\u001b[0;32m   1176\u001b[0m             \u001b[0mst\u001b[0m \u001b[1;33m=\u001b[0m \u001b[0mclock2\u001b[0m\u001b[1;33m(\u001b[0m\u001b[1;33m)\u001b[0m\u001b[1;33m\u001b[0m\u001b[0m\n\u001b[1;32m-> 1177\u001b[1;33m             \u001b[1;32mexec\u001b[0m\u001b[1;33m(\u001b[0m\u001b[0mcode\u001b[0m\u001b[1;33m,\u001b[0m \u001b[0mglob\u001b[0m\u001b[1;33m,\u001b[0m \u001b[0mlocal_ns\u001b[0m\u001b[1;33m)\u001b[0m\u001b[1;33m\u001b[0m\u001b[0m\n\u001b[0m\u001b[0;32m   1178\u001b[0m             \u001b[0mend\u001b[0m \u001b[1;33m=\u001b[0m \u001b[0mclock2\u001b[0m\u001b[1;33m(\u001b[0m\u001b[1;33m)\u001b[0m\u001b[1;33m\u001b[0m\u001b[0m\n\u001b[0;32m   1179\u001b[0m             \u001b[0mout\u001b[0m \u001b[1;33m=\u001b[0m \u001b[0mNone\u001b[0m\u001b[1;33m\u001b[0m\u001b[0m\n",
      "\u001b[1;32m<timed exec>\u001b[0m in \u001b[0;36m<module>\u001b[1;34m()\u001b[0m\n",
      "\u001b[1;32m<ipython-input-12-0442206a61f7>\u001b[0m in \u001b[0;36mcalculate_vectors\u001b[1;34m(training_path, testing_path, feature_extractor)\u001b[0m\n\u001b[0;32m     70\u001b[0m \u001b[1;31m#     labels = [pair['label'] for pair in pairs]\u001b[0m\u001b[1;33m\u001b[0m\u001b[1;33m\u001b[0m\u001b[0m\n\u001b[0;32m     71\u001b[0m \u001b[1;31m#     dev_labels = [pair['label'] for pair in dev_pairs]\u001b[0m\u001b[1;33m\u001b[0m\u001b[1;33m\u001b[0m\u001b[0m\n\u001b[1;32m---> 72\u001b[1;33m     \u001b[0mlabels\u001b[0m \u001b[1;33m=\u001b[0m \u001b[1;33m[\u001b[0m\u001b[0mpair\u001b[0m\u001b[1;33m[\u001b[0m\u001b[1;34m'label'\u001b[0m\u001b[1;33m]\u001b[0m \u001b[1;32mfor\u001b[0m \u001b[0mpair\u001b[0m \u001b[1;32min\u001b[0m \u001b[0mextract_pairs\u001b[0m\u001b[1;33m(\u001b[0m\u001b[0mtraining_path\u001b[0m\u001b[1;33m)\u001b[0m\u001b[1;33m]\u001b[0m\u001b[1;33m\u001b[0m\u001b[0m\n\u001b[0m\u001b[0;32m     73\u001b[0m     \u001b[0mdev_labels\u001b[0m \u001b[1;33m=\u001b[0m \u001b[1;33m[\u001b[0m\u001b[0mpair\u001b[0m\u001b[1;33m[\u001b[0m\u001b[1;34m'label'\u001b[0m\u001b[1;33m]\u001b[0m \u001b[1;32mfor\u001b[0m \u001b[0mpair\u001b[0m \u001b[1;32min\u001b[0m \u001b[0mextract_pairs\u001b[0m\u001b[1;33m(\u001b[0m\u001b[0mtesting_path\u001b[0m\u001b[1;33m)\u001b[0m\u001b[1;33m]\u001b[0m\u001b[1;33m\u001b[0m\u001b[0m\n\u001b[0;32m     74\u001b[0m \u001b[1;33m\u001b[0m\u001b[0m\n",
      "\u001b[1;32m<ipython-input-12-0442206a61f7>\u001b[0m in \u001b[0;36mextract_pairs\u001b[1;34m(file_path)\u001b[0m\n\u001b[0;32m     37\u001b[0m     \u001b[1;32mwith\u001b[0m \u001b[0mopen\u001b[0m\u001b[1;33m(\u001b[0m\u001b[0mfile_path\u001b[0m\u001b[1;33m,\u001b[0m \u001b[1;34m'rb'\u001b[0m\u001b[1;33m)\u001b[0m \u001b[1;32mas\u001b[0m \u001b[0mf\u001b[0m\u001b[1;33m:\u001b[0m\u001b[1;33m\u001b[0m\u001b[0m\n\u001b[0;32m     38\u001b[0m         \u001b[1;32mfor\u001b[0m \u001b[0mline\u001b[0m \u001b[1;32min\u001b[0m \u001b[0mf\u001b[0m\u001b[1;33m:\u001b[0m\u001b[1;33m\u001b[0m\u001b[0m\n\u001b[1;32m---> 39\u001b[1;33m             \u001b[1;32myield\u001b[0m \u001b[0mextract_pair\u001b[0m\u001b[1;33m(\u001b[0m\u001b[0mline\u001b[0m\u001b[1;33m)\u001b[0m\u001b[1;33m\u001b[0m\u001b[0m\n\u001b[0m\u001b[0;32m     40\u001b[0m \u001b[1;33m\u001b[0m\u001b[0m\n\u001b[0;32m     41\u001b[0m \u001b[1;32mdef\u001b[0m \u001b[0mextract_counters\u001b[0m\u001b[1;33m(\u001b[0m\u001b[0mpairs\u001b[0m\u001b[1;33m,\u001b[0m \u001b[0mfeature_extractor\u001b[0m\u001b[1;33m)\u001b[0m\u001b[1;33m:\u001b[0m\u001b[1;33m\u001b[0m\u001b[0m\n",
      "\u001b[1;32m<ipython-input-11-207c9e2b2065>\u001b[0m in \u001b[0;36mextract_pair\u001b[1;34m(line)\u001b[0m\n\u001b[0;32m     12\u001b[0m             \u001b[1;34m'sentence1_pos'\u001b[0m\u001b[1;33m:\u001b[0m \u001b[0mpos_strip\u001b[0m\u001b[1;33m(\u001b[0m\u001b[0mjson_pair\u001b[0m\u001b[1;33m[\u001b[0m\u001b[1;34m'sentence1_parse'\u001b[0m\u001b[1;33m]\u001b[0m\u001b[1;33m,\u001b[0m \u001b[0mpos_stoplist\u001b[0m\u001b[1;33m)\u001b[0m\u001b[1;33m,\u001b[0m\u001b[1;33m\u001b[0m\u001b[0m\n\u001b[0;32m     13\u001b[0m             \u001b[1;34m'sentence2'\u001b[0m\u001b[1;33m:\u001b[0m \u001b[0mjson_pair\u001b[0m\u001b[1;33m[\u001b[0m\u001b[1;34m'sentence2'\u001b[0m\u001b[1;33m]\u001b[0m\u001b[1;33m,\u001b[0m\u001b[1;33m\u001b[0m\u001b[0m\n\u001b[1;32m---> 14\u001b[1;33m             \u001b[1;34m'sentence2_pos'\u001b[0m\u001b[1;33m:\u001b[0m \u001b[0mpos_strip\u001b[0m\u001b[1;33m(\u001b[0m\u001b[0mjson_pair\u001b[0m\u001b[1;33m[\u001b[0m\u001b[1;34m'sentence2_parse'\u001b[0m\u001b[1;33m]\u001b[0m\u001b[1;33m,\u001b[0m \u001b[0mpos_stoplist\u001b[0m\u001b[1;33m)\u001b[0m\u001b[1;33m,\u001b[0m\u001b[1;33m\u001b[0m\u001b[0m\n\u001b[0m\u001b[0;32m     15\u001b[0m             'label': json_pair['gold_label']}\n\u001b[0;32m     16\u001b[0m     \u001b[1;32mreturn\u001b[0m \u001b[0mpair\u001b[0m\u001b[1;33m\u001b[0m\u001b[0m\n",
      "\u001b[1;32m<ipython-input-11-207c9e2b2065>\u001b[0m in \u001b[0;36mpos_strip\u001b[1;34m(sentence_parse, stoplist_function)\u001b[0m\n\u001b[0;32m      4\u001b[0m \u001b[1;32mdef\u001b[0m \u001b[0mpos_strip\u001b[0m\u001b[1;33m(\u001b[0m\u001b[0msentence_parse\u001b[0m\u001b[1;33m,\u001b[0m \u001b[0mstoplist_function\u001b[0m\u001b[1;33m)\u001b[0m\u001b[1;33m:\u001b[0m\u001b[1;33m\u001b[0m\u001b[0m\n\u001b[0;32m      5\u001b[0m     \u001b[0mm\u001b[0m \u001b[1;33m=\u001b[0m \u001b[0mre\u001b[0m\u001b[1;33m.\u001b[0m\u001b[0mfinditer\u001b[0m\u001b[1;33m(\u001b[0m\u001b[1;34m'\\((\\w+) (\\w+)\\)'\u001b[0m\u001b[1;33m,\u001b[0m \u001b[0msentence_parse\u001b[0m\u001b[1;33m)\u001b[0m\u001b[1;33m\u001b[0m\u001b[0m\n\u001b[1;32m----> 6\u001b[1;33m     \u001b[0mtags\u001b[0m \u001b[1;33m=\u001b[0m \u001b[1;33m[\u001b[0m\u001b[1;33m(\u001b[0m\u001b[0mmatch\u001b[0m\u001b[1;33m.\u001b[0m\u001b[0mgroup\u001b[0m\u001b[1;33m(\u001b[0m\u001b[1;36m2\u001b[0m\u001b[1;33m)\u001b[0m\u001b[1;33m,\u001b[0m \u001b[0mmatch\u001b[0m\u001b[1;33m.\u001b[0m\u001b[0mgroup\u001b[0m\u001b[1;33m(\u001b[0m\u001b[1;36m1\u001b[0m\u001b[1;33m)\u001b[0m\u001b[1;33m)\u001b[0m \u001b[1;32mfor\u001b[0m \u001b[0mmatch\u001b[0m \u001b[1;32min\u001b[0m \u001b[0mm\u001b[0m \u001b[1;32mif\u001b[0m \u001b[0mstoplist_function\u001b[0m\u001b[1;33m(\u001b[0m\u001b[0mmatch\u001b[0m\u001b[1;33m.\u001b[0m\u001b[0mgroup\u001b[0m\u001b[1;33m(\u001b[0m\u001b[1;36m1\u001b[0m\u001b[1;33m)\u001b[0m\u001b[1;33m)\u001b[0m\u001b[1;33m]\u001b[0m\u001b[1;33m\u001b[0m\u001b[0m\n\u001b[0m\u001b[0;32m      7\u001b[0m     \u001b[1;32mreturn\u001b[0m \u001b[0mtags\u001b[0m\u001b[1;33m\u001b[0m\u001b[0m\n\u001b[0;32m      8\u001b[0m \u001b[1;33m\u001b[0m\u001b[0m\n",
      "\u001b[1;32m<ipython-input-11-207c9e2b2065>\u001b[0m in \u001b[0;36mpos_stoplist\u001b[1;34m(pos)\u001b[0m\n\u001b[0;32m      1\u001b[0m \u001b[1;32mdef\u001b[0m \u001b[0mpos_stoplist\u001b[0m\u001b[1;33m(\u001b[0m\u001b[0mpos\u001b[0m\u001b[1;33m)\u001b[0m\u001b[1;33m:\u001b[0m\u001b[1;33m\u001b[0m\u001b[0m\n\u001b[1;32m----> 2\u001b[1;33m     \u001b[1;32mreturn\u001b[0m \u001b[0mpos\u001b[0m \u001b[1;33m==\u001b[0m \u001b[1;34m'NN'\u001b[0m \u001b[1;32mor\u001b[0m \u001b[0mpos\u001b[0m \u001b[1;33m==\u001b[0m \u001b[1;34m'JJ'\u001b[0m \u001b[1;32mor\u001b[0m \u001b[1;34m'VB'\u001b[0m \u001b[1;32min\u001b[0m \u001b[0mpos\u001b[0m\u001b[1;33m\u001b[0m\u001b[0m\n\u001b[0m\u001b[0;32m      3\u001b[0m \u001b[1;33m\u001b[0m\u001b[0m\n\u001b[0;32m      4\u001b[0m \u001b[1;32mdef\u001b[0m \u001b[0mpos_strip\u001b[0m\u001b[1;33m(\u001b[0m\u001b[0msentence_parse\u001b[0m\u001b[1;33m,\u001b[0m \u001b[0mstoplist_function\u001b[0m\u001b[1;33m)\u001b[0m\u001b[1;33m:\u001b[0m\u001b[1;33m\u001b[0m\u001b[0m\n\u001b[0;32m      5\u001b[0m     \u001b[0mm\u001b[0m \u001b[1;33m=\u001b[0m \u001b[0mre\u001b[0m\u001b[1;33m.\u001b[0m\u001b[0mfinditer\u001b[0m\u001b[1;33m(\u001b[0m\u001b[1;34m'\\((\\w+) (\\w+)\\)'\u001b[0m\u001b[1;33m,\u001b[0m \u001b[0msentence_parse\u001b[0m\u001b[1;33m)\u001b[0m\u001b[1;33m\u001b[0m\u001b[0m\n",
      "\u001b[1;31mKeyboardInterrupt\u001b[0m: "
     ]
    }
   ],
   "source": [
    "%time vectors, labels, dev_vectors, dev_labels = calculate_vectors(TRAINING_PATH, DEV_PATH, cross_unigram_counter)\n",
    "print vectors.shape"
   ]
  },
  {
   "cell_type": "code",
   "execution_count": 15,
   "metadata": {
    "collapsed": false
   },
   "outputs": [
    {
     "name": "stdout",
     "output_type": "stream",
     "text": [
      "Calculating Cross Unigrams\n",
      "Training Vectorizer\n",
      "Vectorizing unigrams\n",
      "CPU times: user 22min 3s, sys: 7.94 s, total: 22min 11s\n",
      "Wall time: 22min 14s\n",
      "(550152, 2534)\n"
     ]
    }
   ],
   "source": [
    "%time vectors, labels, dev_vectors, dev_labels = calculate_vectors(TRAINING_PATH, DEV_PATH, cross_unigram_stoplist_counter)\n",
    "print vectors.shape"
   ]
  },
  {
   "cell_type": "code",
   "execution_count": 17,
   "metadata": {
    "collapsed": false
   },
   "outputs": [
    {
     "name": "stdout",
     "output_type": "stream",
     "text": [
      "Calculating Labels\n",
      "Training Vectorizer\n",
      "Vectorizing unigrams\n",
      "CPU times: user 10min 33s, sys: 3.65 s, total: 10min 37s\n",
      "Wall time: 10min 40s\n",
      "(550152, 2377572)\n"
     ]
    }
   ],
   "source": [
    "%time vectors, labels, dev_vectors, dev_labels = calculate_vectors(TRAINING_PATH, DEV_PATH, cross_unigram_pos_counter)\n",
    "print vectors.shape"
   ]
  },
  {
   "cell_type": "code",
   "execution_count": 18,
   "metadata": {
    "collapsed": false
   },
   "outputs": [
    {
     "name": "stdout",
     "output_type": "stream",
     "text": [
      "Calculating Cross Unigrams\n",
      "Training Vectorizer\n",
      "Vectorizing unigrams\n",
      "CPU times: user 9min 39s, sys: 9.62 s, total: 9min 49s\n",
      "Wall time: 9min 57s\n",
      "(550152, 2120044)\n"
     ]
    }
   ],
   "source": [
    "%time vectors, labels, dev_vectors, dev_labels = calculate_vectors(TRAINING_PATH, DEV_PATH, cross_unigram_pos_justwords_counter)\n",
    "print vectors.shape"
   ]
  },
  {
   "cell_type": "code",
   "execution_count": 20,
   "metadata": {
    "collapsed": false
   },
   "outputs": [],
   "source": [
    "save_sparse_vectors(TRAINING_VECTORS_PATH, vectors, labels)\n",
    "save_sparse_vectors(DEV_VECTORS_PATH, dev_vectors, dev_labels)"
   ]
  },
  {
   "cell_type": "code",
   "execution_count": 7,
   "metadata": {
    "collapsed": false
   },
   "outputs": [],
   "source": [
    "vectors, labels = load_sparse_vectors(TRAINING_VECTORS_PATH)\n",
    "dev_vectors, dev_labels = load_sparse_vectors(DEV_VECTORS_PATH)"
   ]
  },
  {
   "cell_type": "code",
   "execution_count": 21,
   "metadata": {
    "collapsed": false
   },
   "outputs": [
    {
     "name": "stdout",
     "output_type": "stream",
     "text": [
      "Training Perceptron\n",
      "Testing perceptron\n",
      "0.6118\n"
     ]
    }
   ],
   "source": [
    "#random_state gives the seeed, none seams to always give the same result\n",
    "perceptron = Perceptron(shuffle=True, n_iter=5, random_state=1000)\n",
    "print 'Training Perceptron'\n",
    "perceptron = perceptron.fit(vectors, labels)\n",
    "print 'Testing perceptron'\n",
    "predictions = perceptron.predict(dev_vectors)\n",
    "score = perceptron.score(dev_vectors, dev_labels)\n",
    "print score"
   ]
  },
  {
   "cell_type": "code",
   "execution_count": 17,
   "metadata": {
    "collapsed": false
   },
   "outputs": [
    {
     "name": "stdout",
     "output_type": "stream",
     "text": [
      "(10000, 2377572)\n"
     ]
    }
   ],
   "source": [
    "print vectors[0:10000,:].shape"
   ]
  },
  {
   "cell_type": "code",
   "execution_count": 8,
   "metadata": {
    "collapsed": false
   },
   "outputs": [
    {
     "name": "stdout",
     "output_type": "stream",
     "text": [
      "POS Cross Unigrams\n"
     ]
    }
   ],
   "source": [
    "print 'POS Cross Unigrams'\n",
    "step = 10000\n",
    "scores = []\n",
    "for i in range(1, 55):\n",
    "    samples = i * step\n",
    "    #print '-' * 5 + str(samples) + '-' * 5 \n",
    "    perceptron = Perceptron(shuffle=True, n_iter=5, random_state=1000)\n",
    "    perceptron = perceptron.fit(vectors[0:samples,:], labels[0:samples])\n",
    "    score = perceptron.score(dev_vectors, dev_labels)\n",
    "    #print 'Score: ', score\n",
    "    scores.append(score)"
   ]
  },
  {
   "cell_type": "code",
   "execution_count": 11,
   "metadata": {
    "collapsed": false
   },
   "outputs": [
    {
     "name": "stdout",
     "output_type": "stream",
     "text": [
      "[[2176  496  643]\n",
      " [ 568 2191  515]\n",
      " [ 879  623 1721]]\n",
      "             precision    recall  f1-score   support\n",
      "\n",
      " entailment       0.59      0.65      0.62      3329\n",
      "contradiction       0.65      0.67      0.66      3278\n",
      "    neutral       0.59      0.53      0.56      3235\n",
      "\n",
      "avg / total       0.61      0.62      0.61      9842\n",
      "\n"
     ]
    }
   ],
   "source": [
    "print confusion_matrix(dev_labels, predictions, labels=['entailment', 'contradiction', 'neutral'])\n",
    "print classification_report(dev_labels, predictions,labels=['entailment', 'contradiction', 'neutral'])"
   ]
  },
  {
   "cell_type": "code",
   "execution_count": 10,
   "metadata": {
    "collapsed": false
   },
   "outputs": [
    {
     "data": {
      "image/png": "[encoded data removed]",
      "text/plain": [
       "<matplotlib.figure.Figure at 0x7fd248e87a90>"
      ]
     },
     "metadata": {},
     "output_type": "display_data"
    }
   ],
   "source": [
    "plt.figure()\n",
    "plt.plot(range(1,55), scores)\n",
    "#plt.axis([1, 550, 0.4, 1.0])\n",
    "plt.ylabel('Accuracy')\n",
    "plt.xlabel('Number of Training Samples')\n",
    "plt.show()"
   ]
  },
  {
   "cell_type": "code",
   "execution_count": null,
   "metadata": {
    "collapsed": true
   },
   "outputs": [],
   "source": []
  }
 ],
 "metadata": {
  "kernelspec": {
   "display_name": "Python 2",
   "language": "python",
   "name": "python2"
  },
  "language_info": {
   "codemirror_mode": {
    "name": "ipython",
    "version": 2
   },
   "file_extension": ".py",
   "mimetype": "text/x-python",
   "name": "python",
   "nbconvert_exporter": "python",
   "pygments_lexer": "ipython2",
   "version": "2.7.11"
  }
 },
 "nbformat": 4,
 "nbformat_minor": 0
}
