{
 "cells": [
  {
   "cell_type": "code",
   "execution_count": 1,
   "metadata": {
    "collapsed": true
   },
   "outputs": [],
   "source": [
    "import numpy as np\n",
    "import os\n",
    "import json\n",
    "import collections as col\n",
    "import re\n",
    "from nltk.corpus import stopwords\n",
    "from sklearn.feature_extraction import DictVectorizer\n",
    "from scipy.sparse import csr_matrix\n",
    "from sklearn.linear_model import Perceptron\n",
    "from sklearn.metrics import confusion_matrix\n",
    "from sklearn.metrics import classification_report"
   ]
  },
  {
   "cell_type": "code",
   "execution_count": 2,
   "metadata": {
    "collapsed": true
   },
   "outputs": [],
   "source": [
    "TRAINING_PATH = '/home/jack/Downloads/snli_1.0/snli_1.0_train.jsonl'\n",
    "DEV_PATH = '/home/jack/Downloads/snli_1.0/snli_1.0_dev.jsonl'\n",
    "TEST_PATH = '/home/jack/Downloads/removable/USB_DISK/snli_1.0/snli_1.0_test.jsonl'\n",
    "\n",
    "TRAINING_VECTORS_PATH = '/home/jack/NLP/csr.npz'\n",
    "DEV_VECTORS_PATH = '/home/jack/NLP/dev_csr.npz'\n",
    "TEST_VECTORS_PATH = ''\n",
    "\n",
    "SAVE_TO_FILE = False\n",
    "LOAD_FROM_FILE = False\n",
    "\n",
    "STOP = stopwords.words('english')"
   ]
  },
  {
   "cell_type": "code",
   "execution_count": 3,
   "metadata": {
    "collapsed": true
   },
   "outputs": [],
   "source": [
    "def save_sparse_vectors(file_name, array, labels):\n",
    "    np.savez(file_name, data = array.data, indices = array.indices, indptr = array.indptr, shape = array.shape, label_data = labels)\n",
    "\n",
    "def load_sparse_vectors(file_name):\n",
    "    loader = np.load(file_name)\n",
    "    return (csr_matrix((loader['data'], loader['indices'], loader['indptr']), shape = loader['shape']), loader['label_data'])"
   ]
  },
  {
   "cell_type": "code",
   "execution_count": 4,
   "metadata": {
    "collapsed": true
   },
   "outputs": [],
   "source": [
    "def pos_strip(sentence_parse):\n",
    "    m = re.finditer('\\((\\w+) (\\w+)\\)', sentence_parse)\n",
    "    tags = [(match.group(2), match.group(1)) for match in m]\n",
    "    return tags\n",
    "\n",
    "def extract_pair(line):\n",
    "    json_pair = json.loads(line)\n",
    "    pair = {'sentence1':json_pair['sentence1'],\n",
    "            'sentence1_pos':json_pair['sentence1_parse'],\n",
    "            'sentence2':json_pair['sentence2'],\n",
    "            'sentence2_pos':json_pair['sentence2_parse'],\n",
    "            'label':json_pair['gold_label']}\n",
    "    return pair"
   ]
  },
  {
   "cell_type": "code",
   "execution_count": 5,
   "metadata": {
    "collapsed": true
   },
   "outputs": [],
   "source": [
    "def cross_unigram(sentence1, sentence2, stop_list):\n",
    "    split1 = [i for i in re.findall(\"\\w+\", sentence1.lower()) if i not in stop_list]\n",
    "    split2 = [i for i in re.findall(\"\\w+\", sentence2.lower()) if i not in stop_list]\n",
    "\n",
    "    cross_unigrams = []\n",
    "    for word1 in split1:\n",
    "        for word2 in split2:\n",
    "            cross_unigrams.append((word1,word2))\n",
    "\n",
    "    return cross_unigrams\n",
    "\n",
    "def cross_unigram_pos(sentence1_pos, sentence2_pos):\n",
    "    cross_unigrams = []\n",
    "    for word1 in sentence1_pos:\n",
    "        for word2 in sentence2_pos:\n",
    "            word1_hash = hash(word1)\n",
    "            word2_hash = hash(word2)\n",
    "            cross_unigrams.append((word1_hash, word2_hash))\n",
    "    return cross_unigrams\n",
    "\n",
    "def cross_unigram_counter(sentence1, sentence2):\n",
    "    unigrams = [hash(i) for i in cross_unigram(sentence1, sentence2, STOP)]\n",
    "    counter = col.Counter(unigrams)\n",
    "    return counter\n",
    "\n",
    "def cross_unigram_pos_counter(sentence1_pos, sentence2_pos):\n",
    "    unigrams = [hash(i) for i in cross_unigram_pos(sentence1_pos, sentence2_pos)]\n",
    "    counter = col.Counter(unigrams)\n",
    "    return counter\n",
    "\n",
    "def calculate_vectors(training_path, testing_path):\n",
    "    print 'Calculating Training Vectors'\n",
    "    pairs = []\n",
    "    with open(training_path, 'rb') as f:\n",
    "        count = 5000\n",
    "        for line in f:\n",
    "            pairs.append(extract_pair(line))\n",
    "            if count == 0:\n",
    "                break\n",
    "            else:\n",
    "                count -= 1\n",
    "\n",
    "    print 'Calculating Testing Vectors'\n",
    "    dev_pairs = []\n",
    "    with open(testing_path, 'rb') as f:\n",
    "        count = 5000\n",
    "        for line in f:\n",
    "            dev_pairs.append(extract_pair(line))\n",
    "            if count == 0:\n",
    "                break\n",
    "            else:\n",
    "                count -= 1\n",
    "\n",
    "\n",
    "    print 'Calculating Cross Unigrams'\n",
    "    labels = [pair['label'] for pair in pairs]\n",
    "    dev_labels = [pair['label'] for pair in dev_pairs]\n",
    "\n",
    "    counters = [cross_unigram_pos_counter(pair['sentence1'],pair['sentence2']) for pair in pairs]\n",
    "    dev_counters = [cross_unigram_pos_counter(pair['sentence1'],pair['sentence2']) for pair in dev_pairs]\n",
    "\n",
    "    vectorizer = DictVectorizer()\n",
    "    vectorizer.fit(counters)\n",
    "\n",
    "    vectors = vectorizer.transform(counters)\n",
    "    dev_vectors = vectorizer.transform(dev_counters)\n",
    "\n",
    "    if SAVE_TO_FILE:\n",
    "        print 'Saving to File'\n",
    "        save_sparse_vectors(TRAINING_PATH, vectors, labels)\n",
    "        save_sparse_vectors(DEV_PATH, dev_vectors, dev_labels)\n",
    "\n",
    "    return (vectors, labels, dev_vectors, dev_labels)"
   ]
  },
  {
   "cell_type": "code",
   "execution_count": 6,
   "metadata": {
    "collapsed": false
   },
   "outputs": [
    {
     "name": "stdout",
     "output_type": "stream",
     "text": [
      "Computing feature vectors\n",
      "Calculating Training Vectors\n",
      "Calculating Testing Vectors\n",
      "Calculating Cross Unigrams\n",
      "CPU times: user 1min 11s, sys: 713 ms, total: 1min 12s\n",
      "Wall time: 1min 13s\n"
     ]
    }
   ],
   "source": [
    "if LOAD_FROM_FILE:\n",
    "    try:\n",
    "        vectors, labels = load_sparse_vectors(TRAINING_VECTORS_PATH)\n",
    "        dev_vectors, dev_labels = load_sparse_vectors(DEV_VECTORS_PATH)\n",
    "        print 'Loaded Vectors from File'\n",
    "    except Exception as e:\n",
    "        print 'Failed to load from File calculating feature vectors'\n",
    "        vectors, labels, dev_vectors, dev_labels = calculate_vectors(TRAINING_PATH, DEV_PATH)\n",
    "else:\n",
    "    print 'Computing feature vectors'\n",
    "    %time vectors, labels, dev_vectors, dev_labels = calculate_vectors(TRAINING_PATH, DEV_PATH)"
   ]
  },
  {
   "cell_type": "code",
   "execution_count": 7,
   "metadata": {
    "collapsed": false
   },
   "outputs": [
    {
     "name": "stdout",
     "output_type": "stream",
     "text": [
      "Training Perceptron\n",
      "Testing perceptron\n",
      "0.6679\n"
     ]
    }
   ],
   "source": [
    "#random_state gives the seeed, none seams to always give the same result\n",
    "perceptron = Perceptron(shuffle=True, n_iter=5, random_state=1000)\n",
    "print 'Training Perceptron'\n",
    "perceptron = perceptron.fit(vectors, labels)\n",
    "print 'Testing perceptron'\n",
    "predictions = perceptron.predict(dev_vectors)\n",
    "score = perceptron.score(dev_vectors, dev_labels)\n",
    "print score"
   ]
  },
  {
   "cell_type": "code",
   "execution_count": 8,
   "metadata": {
    "collapsed": false
   },
   "outputs": [
    {
     "name": "stdout",
     "output_type": "stream",
     "text": [
      "[[2383  386  552]\n",
      " [ 440 2365  466]\n",
      " [ 717  573 1931]]\n",
      "             precision    recall  f1-score   support\n",
      "\n",
      " entailment       0.66      0.72      0.69      3329\n",
      "contradiction       0.70      0.72      0.71      3278\n",
      "    neutral       0.64      0.60      0.62      3235\n",
      "\n",
      "avg / total       0.67      0.68      0.67      9842\n",
      "\n"
     ]
    }
   ],
   "source": [
    "print confusion_matrix(dev_labels, predictions, labels=['entailment', 'contradiction', 'neutral'])\n",
    "print classification_report(dev_labels, predictions,labels=['entailment', 'contradiction', 'neutral'])"
   ]
  },
  {
   "cell_type": "code",
   "execution_count": null,
   "metadata": {
    "collapsed": true
   },
   "outputs": [],
   "source": []
  }
 ],
 "metadata": {
  "kernelspec": {
   "display_name": "Python 2",
   "language": "python",
   "name": "python2"
  },
  "language_info": {
   "codemirror_mode": {
    "name": "ipython",
    "version": 2
   },
   "file_extension": ".py",
   "mimetype": "text/x-python",
   "name": "python",
   "nbconvert_exporter": "python",
   "pygments_lexer": "ipython2",
   "version": "2.7.11"
  }
 },
 "nbformat": 4,
 "nbformat_minor": 0
}
