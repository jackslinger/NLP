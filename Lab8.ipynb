{
 "cells": [
  {
   "cell_type": "code",
   "execution_count": 3,
   "metadata": {
    "collapsed": true
   },
   "outputs": [],
   "source": [
    "import numpy as np\n",
    "import os\n",
    "import json\n",
    "import collections as col\n",
    "import re\n",
    "from nltk.corpus import stopwords\n",
    "from sklearn.feature_extraction import DictVectorizer\n",
    "from scipy.sparse import csr_matrix\n",
    "from sklearn.linear_model import Perceptron\n",
    "from sklearn.metrics import confusion_matrix\n",
    "from sklearn.metrics import classification_report"
   ]
  },
  {
   "cell_type": "code",
   "execution_count": 4,
   "metadata": {
    "collapsed": true
   },
   "outputs": [],
   "source": [
    "TRAINING_PATH = '/home/jack/Downloads/snli_1.0/snli_1.0_train.jsonl'\n",
    "DEV_PATH = '/home/jack/Downloads/snli_1.0/snli_1.0_dev.jsonl'\n",
    "TEST_PATH = '/home/jack/Downloads/removable/USB_DISK/snli_1.0/snli_1.0_test.jsonl'\n",
    "\n",
    "TRAINING_VECTORS_PATH = '/home/jack/NLP/POS_csr.npz'\n",
    "DEV_VECTORS_PATH = '/home/jack/NLP/POS_dev_csr.npz'\n",
    "TEST_VECTORS_PATH = ''\n",
    "\n",
    "SAVE_TO_FILE = False\n",
    "LOAD_FROM_FILE = False\n",
    "\n",
    "STOP = stopwords.words('english')"
   ]
  },
  {
   "cell_type": "code",
   "execution_count": 5,
   "metadata": {
    "collapsed": true
   },
   "outputs": [],
   "source": [
    "def save_sparse_vectors(file_name, array, labels):\n",
    "    np.savez(file_name, data = array.data, indices = array.indices, indptr = array.indptr, shape = array.shape, label_data = labels)\n",
    "\n",
    "def load_sparse_vectors(file_name):\n",
    "    loader = np.load(file_name)\n",
    "    return (csr_matrix((loader['data'], loader['indices'], loader['indptr']), shape = loader['shape']), loader['label_data'])"
   ]
  },
  {
   "cell_type": "code",
   "execution_count": 6,
   "metadata": {
    "collapsed": true
   },
   "outputs": [],
   "source": [
    "def pos_stoplist(pos):\n",
    "    return pos == 'NN' or pos == 'JJ' or 'VB' in pos\n",
    "\n",
    "def pos_strip(sentence_parse, stoplist_function):\n",
    "    m = re.finditer('\\((\\w+) (\\w+)\\)', sentence_parse)\n",
    "    tags = [(match.group(2), match.group(1)) for match in m if stoplist_function(match.group(1))]\n",
    "    return tags\n",
    "\n",
    "def extract_pair(line):\n",
    "    json_pair = json.loads(line)\n",
    "    pair = {'sentence1': json_pair['sentence1'],\n",
    "            'sentence1_pos': pos_strip(json_pair['sentence1_parse'], pos_stoplist),\n",
    "            'sentence2': json_pair['sentence2'],\n",
    "            'sentence2_pos': pos_strip(json_pair['sentence2_parse'], pos_stoplist),\n",
    "            'label': json_pair['gold_label']}\n",
    "    return pair"
   ]
  },
  {
   "cell_type": "code",
   "execution_count": 7,
   "metadata": {
    "collapsed": true
   },
   "outputs": [],
   "source": [
    "def cross_unigram_counter(pair):\n",
    "    cross_unigrams = []\n",
    "    for word1 in pair['sentence1']:\n",
    "        for word2 in pair['sentence2']:\n",
    "            cross_unigrams.append((word1, word2))\n",
    "\n",
    "    return col.Counter(cross_unigrams)\n",
    "\n",
    "def cross_unigram_pos_counter(pair):\n",
    "    cross_unigrams = []\n",
    "    for word1 in pair['sentence1_pos']:\n",
    "        for word2 in pair['sentence2_pos']:\n",
    "            cross_unigrams.append((word1, word2))\n",
    "\n",
    "    return col.Counter(cross_unigrams)\n",
    "\n",
    "def calculate_vectors(training_path, testing_path, feature_extractor):\n",
    "    print 'Calculating Training Vectors'\n",
    "    pairs = []\n",
    "    with open(training_path, 'rb') as f:\n",
    "        count = 50000\n",
    "        for line in f:\n",
    "            pairs.append(extract_pair(line))\n",
    "            if count == 0:\n",
    "                break\n",
    "            else:\n",
    "                count -= 1\n",
    "\n",
    "    print 'Calculating Testing Vectors'\n",
    "    dev_pairs = []\n",
    "    with open(testing_path, 'rb') as f:\n",
    "        count = 50000\n",
    "        for line in f:\n",
    "            dev_pairs.append(extract_pair(line))\n",
    "            if count == 0:\n",
    "                break\n",
    "            else:\n",
    "                count -= 1\n",
    "\n",
    "\n",
    "    print 'Calculating Cross Unigrams'\n",
    "    labels = [pair['label'] for pair in pairs]\n",
    "    dev_labels = [pair['label'] for pair in dev_pairs]\n",
    "    \n",
    "    counters = [feature_extractor(pair) for pair in pairs]\n",
    "    dev_counters = [feature_extractor(pair) for pair in dev_pairs]\n",
    " \n",
    "    print 'Training Vectorizer'\n",
    "    vectorizer = DictVectorizer()\n",
    "    vectorizer.fit(counters)\n",
    "\n",
    "    print 'Vectorizing unigrams'\n",
    "    vectors = vectorizer.transform(counters)\n",
    "    dev_vectors = vectorizer.transform(dev_counters)\n",
    "\n",
    "    if SAVE_TO_FILE:\n",
    "        print 'Saving to File'\n",
    "        save_sparse_vectors(TRAINING_PATH, vectors, labels)\n",
    "        save_sparse_vectors(DEV_PATH, dev_vectors, dev_labels)\n",
    "\n",
    "    return (vectors, labels, dev_vectors, dev_labels)"
   ]
  },
  {
   "cell_type": "code",
   "execution_count": 98,
   "metadata": {
    "collapsed": false
   },
   "outputs": [
    {
     "name": "stdout",
     "output_type": "stream",
     "text": [
      "Computing feature vectors\n",
      "Calculating Training Vectors\n",
      "Calculating Testing Vectors\n",
      "Calculating Cross Unigrams\n",
      "Training Vectorizer\n",
      "Vectorizing unigrams\n"
     ]
    }
   ],
   "source": [
    "if LOAD_FROM_FILE:\n",
    "    try:\n",
    "        vectors, labels = load_sparse_vectors(TRAINING_VECTORS_PATH)\n",
    "        dev_vectors, dev_labels = load_sparse_vectors(DEV_VECTORS_PATH)\n",
    "        print 'Loaded Vectors from File'\n",
    "    except Exception as e:\n",
    "        print 'Failed to load from File calculating feature vectors'\n",
    "        vectors, labels, dev_vectors, dev_labels = calculate_vectors(TRAINING_PATH, DEV_PATH)\n",
    "else:\n",
    "    print 'Computing feature vectors'\n",
    "    vectors, labels, dev_vectors, dev_labels = calculate_vectors(TRAINING_PATH, DEV_PATH)"
   ]
  },
  {
   "cell_type": "code",
   "execution_count": 8,
   "metadata": {
    "collapsed": false
   },
   "outputs": [
    {
     "name": "stdout",
     "output_type": "stream",
     "text": [
      "Calculating Training Vectors\n",
      "Calculating Testing Vectors\n",
      "Calculating Cross Unigrams\n",
      "Training Vectorizer\n",
      "Vectorizing unigrams\n",
      "CPU times: user 6min 31s, sys: 47.1 s, total: 7min 18s\n",
      "Wall time: 7min 49s\n",
      "(50001, 4667)\n"
     ]
    }
   ],
   "source": [
    "%time vectors, labels, dev_vectors, dev_labels = calculate_vectors(TRAINING_PATH, DEV_PATH, cross_unigram_counter)\n",
    "print vectors.shape"
   ]
  },
  {
   "cell_type": "code",
   "execution_count": 10,
   "metadata": {
    "collapsed": false
   },
   "outputs": [
    {
     "name": "stdout",
     "output_type": "stream",
     "text": [
      "Calculating Training Vectors\n",
      "Calculating Testing Vectors\n",
      "Calculating Cross Unigrams\n",
      "Training Vectorizer\n",
      "Vectorizing unigrams\n",
      "CPU times: user 37.2 s, sys: 2 s, total: 39.2 s\n",
      "Wall time: 39.8 s\n",
      "(50001, 398977)\n"
     ]
    }
   ],
   "source": [
    "%time vectors, labels, dev_vectors, dev_labels = calculate_vectors(TRAINING_PATH, DEV_PATH, cross_unigram_pos_counter)\n",
    "print vectors.shape"
   ]
  },
  {
   "cell_type": "code",
   "execution_count": 11,
   "metadata": {
    "collapsed": false
   },
   "outputs": [
    {
     "name": "stdout",
     "output_type": "stream",
     "text": [
      "Training Perceptron\n",
      "Testing perceptron\n",
      "0.5167\n"
     ]
    }
   ],
   "source": [
    "#random_state gives the seeed, none seams to always give the same result\n",
    "perceptron = Perceptron(shuffle=True, n_iter=5, random_state=1000)\n",
    "print 'Training Perceptron'\n",
    "perceptron = perceptron.fit(vectors, labels)\n",
    "print 'Testing perceptron'\n",
    "predictions = perceptron.predict(dev_vectors)\n",
    "score = perceptron.score(dev_vectors, dev_labels)\n",
    "print score"
   ]
  },
  {
   "cell_type": "code",
   "execution_count": 8,
   "metadata": {
    "collapsed": false
   },
   "outputs": [
    {
     "name": "stdout",
     "output_type": "stream",
     "text": [
      "[[2383  386  552]\n",
      " [ 440 2365  466]\n",
      " [ 717  573 1931]]\n",
      "             precision    recall  f1-score   support\n",
      "\n",
      " entailment       0.66      0.72      0.69      3329\n",
      "contradiction       0.70      0.72      0.71      3278\n",
      "    neutral       0.64      0.60      0.62      3235\n",
      "\n",
      "avg / total       0.67      0.68      0.67      9842\n",
      "\n"
     ]
    }
   ],
   "source": [
    "print confusion_matrix(dev_labels, predictions, labels=['entailment', 'contradiction', 'neutral'])\n",
    "print classification_report(dev_labels, predictions,labels=['entailment', 'contradiction', 'neutral'])"
   ]
  },
  {
   "cell_type": "code",
   "execution_count": null,
   "metadata": {
    "collapsed": true
   },
   "outputs": [],
   "source": []
  }
 ],
 "metadata": {
  "kernelspec": {
   "display_name": "Python 2",
   "language": "python",
   "name": "python2"
  },
  "language_info": {
   "codemirror_mode": {
    "name": "ipython",
    "version": 2
   },
   "file_extension": ".py",
   "mimetype": "text/x-python",
   "name": "python",
   "nbconvert_exporter": "python",
   "pygments_lexer": "ipython2",
   "version": "2.7.11"
  }
 },
 "nbformat": 4,
 "nbformat_minor": 0
}
