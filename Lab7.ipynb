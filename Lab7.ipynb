{
 "cells": [
  {
   "cell_type": "code",
   "execution_count": 38,
   "metadata": {
    "collapsed": true
   },
   "outputs": [],
   "source": [
    "import nltk\n",
    "from nltk.corpus import brown\n",
    "import re\n",
    "import numpy as np"
   ]
  },
  {
   "cell_type": "code",
   "execution_count": 4,
   "metadata": {
    "collapsed": true
   },
   "outputs": [],
   "source": [
    "QUESTIONS_PATH = '/home/jack/NLP/questions.txt'"
   ]
  },
  {
   "cell_type": "code",
   "execution_count": 91,
   "metadata": {
    "collapsed": false
   },
   "outputs": [],
   "source": [
    "brown_words = brown.words()\n",
    "unigram_count = nltk.FreqDist(brown_words)\n",
    "number_of_words = len(unigram_count)\n",
    "bigram_count = nltk.FreqDist(nltk.bigrams(brown_words))"
   ]
  },
  {
   "cell_type": "code",
   "execution_count": 35,
   "metadata": {
    "collapsed": false
   },
   "outputs": [],
   "source": [
    "questions = []\n",
    "\n",
    "with open(QUESTIONS_PATH, 'r') as f:\n",
    "    for line in f:\n",
    "        split = line.split(':')\n",
    "        sentence = re.findall('\\w+', split[0])\n",
    "        answers = re.findall('\\w+', split[1])\n",
    "        questions.append((line, sentence, answers))"
   ]
  },
  {
   "cell_type": "code",
   "execution_count": 93,
   "metadata": {
    "collapsed": true
   },
   "outputs": [],
   "source": [
    "def unigram_homophone_selector(questions):\n",
    "    for question in questions:\n",
    "        line = question[0].split(':')[0].strip('\\n')\n",
    "        homophones = question[2]\n",
    "        \n",
    "        index = np.argmax([unigram_count[homophone] for homophone in homophones])\n",
    "        best_homophone = homophones[index]\n",
    "        \n",
    "        print line + ' -> ' + best_homophone"
   ]
  },
  {
   "cell_type": "code",
   "execution_count": 88,
   "metadata": {
    "collapsed": false
   },
   "outputs": [],
   "source": [
    "def bigram_probability(first, second):\n",
    "    if unigram_count[first] == 0:\n",
    "        return 0.0\n",
    "    else:\n",
    "        return bigram_count[(first, second)] / float(unigram_count[first])"
   ]
  },
  {
   "cell_type": "code",
   "execution_count": 110,
   "metadata": {
    "collapsed": true
   },
   "outputs": [],
   "source": [
    "def smoothed_bigram_probability(first, second):\n",
    "    return (bigram_count[(first, second)] + 1) / (float(unigram_count[first]) + number_of_words)"
   ]
  },
  {
   "cell_type": "code",
   "execution_count": 108,
   "metadata": {
    "collapsed": true
   },
   "outputs": [],
   "source": [
    "def bigram_homophone_selector(questions):\n",
    "    for question in questions:\n",
    "        line = question[0].split(':')[0].strip('\\n')\n",
    "        homophones = question[2]\n",
    "        sentence = question[1]\n",
    "        \n",
    "        best_probablitiy = 0\n",
    "        best_homophone = 'NOT_FOUND'\n",
    "        for homophone in homophones:\n",
    "        \n",
    "            word_position = sentence.index('____')\n",
    "        \n",
    "            if word_position == 0:\n",
    "                after = sentence[word_position + 1]\n",
    "                probabilility = bigram_probability(homophone, after)\n",
    "            elif word_position == len(sentence) - 1:\n",
    "                before = sentence[word_position - 1]\n",
    "                probabilility = bigram_probability(before, homophone)\n",
    "            else:\n",
    "                before = sentence[word_position - 1]\n",
    "                after = sentence[word_position + 1]\n",
    "                probabilility = bigram_probability(before, homophone) * bigram_probability(homophone, after)\n",
    "            \n",
    "            if probabilility > best_probablitiy:\n",
    "                best_homophone = homophone\n",
    "                best_probablitiy = probabilility\n",
    "    \n",
    "        print line + ' -> ' + best_homophone"
   ]
  },
  {
   "cell_type": "code",
   "execution_count": 120,
   "metadata": {
    "collapsed": true
   },
   "outputs": [],
   "source": [
    "def smoothed_bigram_homophone_selector(questions):\n",
    "    for question in questions:\n",
    "        line = question[0].split(':')[0].strip('\\n')\n",
    "        homophones = question[2]\n",
    "        sentence = question[1]\n",
    "        \n",
    "        best_probablitiy = None\n",
    "        best_homophone = 'NOT_FOUND'\n",
    "        for homophone in homophones:\n",
    "        \n",
    "            word_position = sentence.index('____')\n",
    "        \n",
    "            if word_position == 0:\n",
    "                after = sentence[word_position + 1]\n",
    "                probabilility = np.log10(smoothed_bigram_probability(homophone, after))\n",
    "            elif word_position == len(sentence) - 1:\n",
    "                before = sentence[word_position - 1]\n",
    "                probabilility = np.log10(smoothed_bigram_probability(before, homophone))\n",
    "            else:\n",
    "                before = sentence[word_position - 1]\n",
    "                after = sentence[word_position + 1]\n",
    "                probabilility = np.log10(smoothed_bigram_probability(before, homophone)) + np.log10(smoothed_bigram_probability(homophone, after))\n",
    "            \n",
    "            if not best_probablitiy:\n",
    "                best_homophone = homophone\n",
    "                best_probablitiy = probabilility\n",
    "            if probabilility > best_probablitiy:\n",
    "                best_homophone = homophone\n",
    "                best_probablitiy = probabilility\n",
    "    \n",
    "        print line + ' -> ' + best_homophone"
   ]
  },
  {
   "cell_type": "code",
   "execution_count": 121,
   "metadata": {
    "collapsed": false
   },
   "outputs": [
    {
     "name": "stdout",
     "output_type": "stream",
     "text": [
      "----------Unigram Selector----------\n",
      "I don't know ____ to go out or not .  -> whether\n",
      "Houses were being built on this ____ .  -> sight\n",
      "We went ____ the door to get inside .  -> through\n",
      "I really want a ____ car .  -> new\n",
      "They all had a ____ of the cake .  -> peace\n",
      "She had to go to ____ to prove she was innocent .  -> court\n",
      "We were only ____ to visit at certain times .  -> allowed\n",
      "We had to ____ a car while we were on holiday .  -> higher\n",
      "Tip the jug and ____ lots of cream on the strawberries .  -> poor\n",
      "She went back to ____ she had locked the door .  -> check\n",
      "\n",
      "----------Bigram Selector----------\n",
      "I don't know ____ to go out or not .  -> whether\n",
      "Houses were being built on this ____ .  -> site\n",
      "We went ____ the door to get inside .  -> through\n",
      "I really want a ____ car .  -> new\n",
      "They all had a ____ of the cake .  -> piece\n",
      "She had to go to ____ to prove she was innocent .  -> court\n",
      "We were only ____ to visit at certain times .  -> NOT_FOUND\n",
      "We had to ____ a car while we were on holiday .  -> hire\n",
      "Tip the jug and ____ lots of cream on the strawberries .  -> NOT_FOUND\n",
      "She went back to ____ she had locked the door .  -> NOT_FOUND\n",
      "\n",
      "----------Smoothed Bigram Selector----------\n",
      "I don't know ____ to go out or not .  -> whether\n",
      "Houses were being built on this ____ .  -> site\n",
      "We went ____ the door to get inside .  -> through\n",
      "I really want a ____ car .  -> new\n",
      "They all had a ____ of the cake .  -> piece\n",
      "She had to go to ____ to prove she was innocent .  -> court\n",
      "We were only ____ to visit at certain times .  -> allowed\n",
      "We had to ____ a car while we were on holiday .  -> hire\n",
      "Tip the jug and ____ lots of cream on the strawberries .  -> poor\n",
      "She went back to ____ she had locked the door .  -> check\n"
     ]
    }
   ],
   "source": [
    "print '-' * 10 + 'Unigram Selector' + '-' * 10\n",
    "unigram_homophone_selector(questions)\n",
    "print ''\n",
    "print '-' * 10 + 'Bigram Selector' + '-' * 10\n",
    "bigram_homophone_selector(questions)\n",
    "print ''\n",
    "print '-' * 10 + 'Smoothed Bigram Selector' + '-' * 10\n",
    "smoothed_bigram_homophone_selector(questions)"
   ]
  },
  {
   "cell_type": "code",
   "execution_count": null,
   "metadata": {
    "collapsed": true
   },
   "outputs": [],
   "source": []
  }
 ],
 "metadata": {
  "kernelspec": {
   "display_name": "Python 2",
   "language": "python",
   "name": "python2"
  },
  "language_info": {
   "codemirror_mode": {
    "name": "ipython",
    "version": 2
   },
   "file_extension": ".py",
   "mimetype": "text/x-python",
   "name": "python",
   "nbconvert_exporter": "python",
   "pygments_lexer": "ipython2",
   "version": "2.7.11"
  }
 },
 "nbformat": 4,
 "nbformat_minor": 0
}
