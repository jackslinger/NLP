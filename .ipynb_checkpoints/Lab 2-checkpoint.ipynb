{
 "cells": [
  {
   "cell_type": "code",
   "execution_count": 8,
   "metadata": {
    "collapsed": false
   },
   "outputs": [],
   "source": [
    "import re\n",
    "import collections as col\n",
    "import numpy as np\n",
    "from random import shuffle\n",
    "import os\n",
    "\n",
    "#np.set_printoptions(threshold='nan')"
   ]
  },
  {
   "cell_type": "code",
   "execution_count": 9,
   "metadata": {
    "collapsed": false
   },
   "outputs": [],
   "source": [
    "FOLDER_PATH = '/home/jack/Downloads/txt_sentoken/'"
   ]
  },
  {
   "cell_type": "code",
   "execution_count": 10,
   "metadata": {
    "collapsed": true
   },
   "outputs": [],
   "source": [
    "def create_bag_of_words(file_path):\n",
    "    file = open(FOLDER_PATH + file_path)\n",
    "    \n",
    "    raw = file.read().lower()\n",
    "    split = re.findall(\"\\w+\", raw)\n",
    "    \n",
    "    bag = col.Counter(split)\n",
    "    \n",
    "    file.close()\n",
    "    return bag\n",
    "    "
   ]
  },
  {
   "cell_type": "code",
   "execution_count": 11,
   "metadata": {
    "collapsed": true
   },
   "outputs": [],
   "source": [
    "def convert_to_standard_vector(key_set, bag):\n",
    "    vector = []\n",
    "    for key in key_set:\n",
    "        if key in bag[0]:\n",
    "            vector.append(bag[0][key])\n",
    "        else:\n",
    "            vector.append(0)\n",
    "    \n",
    "    return (np.array(vector), bag[1])"
   ]
  },
  {
   "cell_type": "code",
   "execution_count": 12,
   "metadata": {
    "collapsed": true
   },
   "outputs": [],
   "source": [
    "def compute_bags_of_words(path_to_dir, key_set, positive_review):\n",
    "    bags = []\n",
    "    \n",
    "    for path in os.listdir(FOLDER_PATH + path_to_dir):\n",
    "        complete_path = path_to_dir + path\n",
    "        bag = create_bag_of_words(complete_path)\n",
    "        bags.append((bag, positive_review))\n",
    "        key_set.update(bag.keys())\n",
    "    \n",
    "    return bags"
   ]
  },
  {
   "cell_type": "code",
   "execution_count": 13,
   "metadata": {
    "collapsed": false
   },
   "outputs": [],
   "source": [
    "key_set = set()\n",
    "bags = []\n",
    "vectors = []\n",
    "\n",
    "bags += compute_bags_of_words('neg/', key_set, False)\n",
    "bags += compute_bags_of_words('pos/', key_set, True)\n",
    "\n",
    "for bag in bags:\n",
    "    vector = convert_to_standard_vector(key_set, bag)\n",
    "    vectors.append(vector)\n"
   ]
  },
  {
   "cell_type": "code",
   "execution_count": 54,
   "metadata": {
    "collapsed": false
   },
   "outputs": [],
   "source": [
    "train = vectors[0:800] + vectors[1000:1800]\n",
    "test = vectors[800:1000] + vectors[1800:2000]"
   ]
  },
  {
   "cell_type": "code",
   "execution_count": 71,
   "metadata": {
    "collapsed": false
   },
   "outputs": [],
   "source": [
    "np.save(FOLDER_PATH + 'test_file', train[0])"
   ]
  },
  {
   "cell_type": "code",
   "execution_count": 74,
   "metadata": {
    "collapsed": false
   },
   "outputs": [
    {
     "name": "stdout",
     "output_type": "stream",
     "text": [
      "[0 0 0 ..., 0 0 0]\n"
     ]
    }
   ],
   "source": [
    "read_array = np.load(FOLDER_PATH + 'test_file.npy')\n",
    "\n",
    "print read_array[0]"
   ]
  },
  {
   "cell_type": "code",
   "execution_count": 55,
   "metadata": {
    "collapsed": true
   },
   "outputs": [],
   "source": [
    "def perceptron_train(examples, weights):\n",
    "    for example in examples:\n",
    "        vector = example[0]\n",
    "        label = example[1]\n",
    "        \n",
    "        raw_prediction = np.dot(weights, vector)\n",
    "        prediction = raw_prediction > 0\n",
    "        \n",
    "        if raw_prediction == 0:\n",
    "            weights = weights + vector\n",
    "        elif label != prediction:\n",
    "            if label:\n",
    "                weights = weights + vector\n",
    "            else:\n",
    "                weights = weights - vector\n",
    "    \n",
    "    return weights"
   ]
  },
  {
   "cell_type": "code",
   "execution_count": 56,
   "metadata": {
    "collapsed": true
   },
   "outputs": [],
   "source": [
    "def perceptron_test(examples, weights):\n",
    "    predictions = []\n",
    "    for example in examples:\n",
    "        vector = example[0]\n",
    "        raw_prediction = np.dot(weights, vector)\n",
    "        prediction = raw_prediction > 0\n",
    "        predictions.append(prediction)\n",
    "    \n",
    "    return predictions"
   ]
  },
  {
   "cell_type": "code",
   "execution_count": 65,
   "metadata": {
    "collapsed": false
   },
   "outputs": [],
   "source": [
    "shuffle(train)\n",
    "shuffle(test)\n",
    "\n",
    "weights = np.zeros(len(key_set))\n",
    "\n",
    "weights = perceptron_train(train, weights)\n",
    "\n",
    "predictions = perceptron_test(test, weights)"
   ]
  },
  {
   "cell_type": "code",
   "execution_count": 66,
   "metadata": {
    "collapsed": false
   },
   "outputs": [
    {
     "name": "stdout",
     "output_type": "stream",
     "text": [
      "278\n",
      "102\n",
      "298\n",
      "0.695\n"
     ]
    }
   ],
   "source": [
    "correct = 0\n",
    "pos = 0\n",
    "neg = 0\n",
    "\n",
    "for i in range(0,len(predictions)):\n",
    "    prediction = predictions[i]\n",
    "    actual = test[i][1]\n",
    "    \n",
    "    if prediction:\n",
    "        pos += 1\n",
    "    \n",
    "    if not prediction:\n",
    "        neg += 1\n",
    "    \n",
    "    if prediction and actual:\n",
    "        correct += 1\n",
    "    elif not prediction and not actual:\n",
    "        correct += 1\n",
    "\n",
    "print correct\n",
    "print pos\n",
    "print neg\n",
    "\n",
    "accuracy = correct / float(len(predictions))\n",
    "\n",
    "print accuracy\n",
    "    "
   ]
  },
  {
   "cell_type": "code",
   "execution_count": 270,
   "metadata": {
    "collapsed": false
   },
   "outputs": [
    {
     "name": "stdout",
     "output_type": "stream",
     "text": [
      "200\n",
      "0\n",
      "200\n",
      "0\n"
     ]
    },
    {
     "ename": "ZeroDivisionError",
     "evalue": "float division by zero",
     "output_type": "error",
     "traceback": [
      "\u001b[1;31m---------------------------------------------------------------------------\u001b[0m",
      "\u001b[1;31mZeroDivisionError\u001b[0m                         Traceback (most recent call last)",
      "\u001b[1;32m<ipython-input-270-03479f8d53e9>\u001b[0m in \u001b[0;36m<module>\u001b[1;34m()\u001b[0m\n\u001b[0;32m     30\u001b[0m \u001b[0mpos_fscore\u001b[0m \u001b[1;33m=\u001b[0m \u001b[1;36m2\u001b[0m \u001b[1;33m*\u001b[0m \u001b[0mpos_precision\u001b[0m \u001b[1;33m*\u001b[0m \u001b[0mpos_recall\u001b[0m \u001b[1;33m/\u001b[0m \u001b[1;33m(\u001b[0m\u001b[0mpos_precision\u001b[0m \u001b[1;33m+\u001b[0m \u001b[0mpos_recall\u001b[0m\u001b[1;33m)\u001b[0m\u001b[1;33m\u001b[0m\u001b[0m\n\u001b[0;32m     31\u001b[0m \u001b[1;33m\u001b[0m\u001b[0m\n\u001b[1;32m---> 32\u001b[1;33m \u001b[0mneg_precision\u001b[0m \u001b[1;33m=\u001b[0m \u001b[0mtrue_negative\u001b[0m \u001b[1;33m/\u001b[0m \u001b[0mfloat\u001b[0m\u001b[1;33m(\u001b[0m\u001b[0mtrue_negative\u001b[0m \u001b[1;33m+\u001b[0m \u001b[0mfalse_negative\u001b[0m\u001b[1;33m)\u001b[0m\u001b[1;33m\u001b[0m\u001b[0m\n\u001b[0m\u001b[0;32m     33\u001b[0m \u001b[0mneg_recall\u001b[0m \u001b[1;33m=\u001b[0m \u001b[0mtrue_negative\u001b[0m \u001b[1;33m/\u001b[0m \u001b[0mfloat\u001b[0m\u001b[1;33m(\u001b[0m\u001b[0mtrue_negative\u001b[0m \u001b[1;33m+\u001b[0m \u001b[0mfalse_positive\u001b[0m\u001b[1;33m)\u001b[0m\u001b[1;33m\u001b[0m\u001b[0m\n\u001b[0;32m     34\u001b[0m \u001b[0mneg_fscore\u001b[0m \u001b[1;33m=\u001b[0m \u001b[1;36m2\u001b[0m \u001b[1;33m*\u001b[0m \u001b[0mneg_precision\u001b[0m \u001b[1;33m*\u001b[0m \u001b[0mneg_recall\u001b[0m \u001b[1;33m/\u001b[0m \u001b[1;33m(\u001b[0m\u001b[0mneg_precision\u001b[0m \u001b[1;33m+\u001b[0m \u001b[0mneg_recall\u001b[0m\u001b[1;33m)\u001b[0m\u001b[1;33m\u001b[0m\u001b[0m\n",
      "\u001b[1;31mZeroDivisionError\u001b[0m: float division by zero"
     ]
    }
   ],
   "source": [
    "assert len(predictions) == len(test)\n",
    "\n",
    "true_positive = 0\n",
    "true_negative = 0\n",
    "false_positive = 0\n",
    "false_negative = 0\n",
    "\n",
    "for i in range(0,len(predictions)):\n",
    "    prediction = predictions[i]\n",
    "    actual = test[i][1]\n",
    "    \n",
    "    if prediction and actual:\n",
    "        true_positive += 1\n",
    "    elif prediction and not actual:\n",
    "        false_positive += 1\n",
    "    elif not prediction and actual:\n",
    "        false_negative += 1\n",
    "    elif not prediction and not actual:\n",
    "        true_negative += 1\n",
    "\n",
    "print true_positive\n",
    "print true_negative\n",
    "print false_positive\n",
    "print false_negative\n",
    "        \n",
    "accuracy = (true_positive + true_negative) / float(len(predictions))\n",
    "        \n",
    "pos_precision = true_positive / float(true_positive + false_positive)\n",
    "pos_recall = true_positive / float(true_positive + false_negative)\n",
    "pos_fscore = 2 * pos_precision * pos_recall / (pos_precision + pos_recall)\n",
    "\n",
    "neg_precision = true_negative / float(true_negative + false_negative)\n",
    "neg_recall = true_negative / float(true_negative + false_positive)\n",
    "neg_fscore = 2 * neg_precision * neg_recall / (neg_precision + neg_recall)\n",
    "\n",
    "print \"Accuracy: \" + str(accuracy)\n",
    "print\n",
    "\n",
    "print \"Positive Reviews\"\n",
    "print \"Precision: \" + str(pos_precision)\n",
    "print \"Recall: \" + str(pos_recall)\n",
    "print \"F-Score: \" + str(pos_fscore)\n",
    "print\n",
    "\n",
    "print \"Negative Reviews\"\n",
    "print \"Precision: \" + str(neg_precision)\n",
    "print \"Recall: \" + str(neg_recall)\n",
    "print \"F-Score: \" + str(neg_fscore)"
   ]
  },
  {
   "cell_type": "code",
   "execution_count": null,
   "metadata": {
    "collapsed": true
   },
   "outputs": [],
   "source": []
  }
 ],
 "metadata": {
  "kernelspec": {
   "display_name": "Python 2",
   "language": "python",
   "name": "python2"
  },
  "language_info": {
   "codemirror_mode": {
    "name": "ipython",
    "version": 2
   },
   "file_extension": ".py",
   "mimetype": "text/x-python",
   "name": "python",
   "nbconvert_exporter": "python",
   "pygments_lexer": "ipython2",
   "version": "2.7.11"
  }
 },
 "nbformat": 4,
 "nbformat_minor": 0
}
