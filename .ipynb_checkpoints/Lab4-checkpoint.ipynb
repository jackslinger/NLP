{
 "cells": [
  {
   "cell_type": "code",
   "execution_count": 55,
   "metadata": {
    "collapsed": true
   },
   "outputs": [],
   "source": [
    "import numpy as np\n",
    "import os\n",
    "import json\n",
    "import collections as col\n",
    "import re\n",
    "from nltk.corpus import stopwords\n",
    "from sklearn.feature_extraction import DictVectorizer\n",
    "from scipy.sparse import csr_matrix\n",
    "from sklearn.linear_model import Perceptron"
   ]
  },
  {
   "cell_type": "code",
   "execution_count": 56,
   "metadata": {
    "collapsed": false
   },
   "outputs": [],
   "source": [
    "TRAINING_PATH = '/media/removable/USB DISK/snli_1.0/snli_1.0_train.jsonl'\n",
    "DEV_PATH = '/media/removable/USB DISK/snli_1.0/snli_1.0_dev.jsonl'\n",
    "TEST_PATH = '/media/removable/USB DISK/snli_1.0/snli_1.0_test.jsonl'\n",
    "\n",
    "STOP = stopwords.words('english')"
   ]
  },
  {
   "cell_type": "code",
   "execution_count": 4,
   "metadata": {
    "collapsed": false
   },
   "outputs": [],
   "source": [
    "pairs = []\n",
    "with open(TRAINING_PATH, 'rb') as f:\n",
    "    for line in f:\n",
    "        json_pair = json.loads(line)\n",
    "        pair = {'sentence1':json_pair['sentence1'],\n",
    "                'sentence2':json_pair['sentence2'],\n",
    "                'label':json_pair['gold_label']}\n",
    "        pairs.append(pair)"
   ]
  },
  {
   "cell_type": "code",
   "execution_count": 5,
   "metadata": {
    "collapsed": true
   },
   "outputs": [],
   "source": [
    "dev_pairs = []\n",
    "with open(DEV_PATH, 'rb') as f:\n",
    "    for line in f:\n",
    "        json_pair = json.loads(line)\n",
    "        pair = {'sentence1':json_pair['sentence1'],\n",
    "                'sentence2':json_pair['sentence2'],\n",
    "                'label':json_pair['gold_label']}\n",
    "        dev_pairs.append(pair)"
   ]
  },
  {
   "cell_type": "code",
   "execution_count": 6,
   "metadata": {
    "collapsed": true
   },
   "outputs": [],
   "source": [
    "labels = [pair['label'] for pair in pairs]\n",
    "dev_labels = [pair['label'] for pair in dev_pairs]"
   ]
  },
  {
   "cell_type": "code",
   "execution_count": 57,
   "metadata": {
    "collapsed": false
   },
   "outputs": [
    {
     "name": "stdout",
     "output_type": "stream",
     "text": [
      "550152\n",
      "neutral\n",
      "10000\n",
      "{'sentence1': u'Two women are embracing while holding to go packages.', 'sentence2': u'The sisters are hugging goodbye while holding to go packages after just eating lunch.', 'label': u'neutral'}\n"
     ]
    }
   ],
   "source": [
    "print len(pairs)\n",
    "print pairs[0]['label']\n",
    "\n",
    "print len(dev_pairs)\n",
    "print dev_pairs[0]"
   ]
  },
  {
   "cell_type": "code",
   "execution_count": 58,
   "metadata": {
    "collapsed": true
   },
   "outputs": [],
   "source": [
    "def create_bag_of_words(sentence):\n",
    "    lower = sentence.lower()\n",
    "    split = re.findall(\"\\w+\", lower)\n",
    "    bag = col.Counter(split)\n",
    "    return bag"
   ]
  },
  {
   "cell_type": "code",
   "execution_count": 59,
   "metadata": {
    "collapsed": true
   },
   "outputs": [],
   "source": [
    "def create_bag_of_common_words(sentence1, sentence2):\n",
    "    bag1 = create_bag_of_words(sentence1)\n",
    "    bag2 = create_bag_of_words(sentence2)\n",
    "    intersection = bag1 & bag2\n",
    "    return intersection"
   ]
  },
  {
   "cell_type": "code",
   "execution_count": null,
   "metadata": {
    "collapsed": true
   },
   "outputs": [],
   "source": [
    "def remove_stop_words_from_counter(counter, stop_list):\n",
    "    new_keys = set(counter.keys()) - set(stop_list)\n",
    "    new_counter = {x: counter[x] for x in new_keys}\n",
    "    return new_counter"
   ]
  },
  {
   "cell_type": "code",
   "execution_count": null,
   "metadata": {
    "collapsed": false
   },
   "outputs": [],
   "source": [
    "for i in range(0,2):\n",
    "    bag = create_bag_of_common_words(pairs[i]['sentence1'], pairs[i]['sentence2'])\n",
    "    bag = remove_stop_words_from_counter(bag, STOP)\n",
    "    print bag"
   ]
  },
  {
   "cell_type": "code",
   "execution_count": 60,
   "metadata": {
    "collapsed": false
   },
   "outputs": [],
   "source": [
    "def compute_bags_of_words(path_to_dir, key_set, positive_review):\n",
    "    bags = []\n",
    "\n",
    "    for path in os.listdir(FOLDER_PATH + path_to_dir):\n",
    "        complete_path = path_to_dir + path\n",
    "        bag = create_bag_of_words(complete_path)\n",
    "        bags.append((bag, positive_review))\n",
    "        key_set.update(bag.keys())\n",
    "\n",
    "    return bags"
   ]
  },
  {
   "cell_type": "code",
   "execution_count": 65,
   "metadata": {
    "collapsed": false
   },
   "outputs": [],
   "source": [
    "counters = [cross_unigram_counter(pair['sentence1'],pair['sentence2']) for pair in pairs]\n",
    "dev_counters = [cross_unigram_counter(pair['sentence1'],pair['sentence2']) for pair in dev_pairs]"
   ]
  },
  {
   "cell_type": "code",
   "execution_count": 66,
   "metadata": {
    "collapsed": false
   },
   "outputs": [],
   "source": [
    "vectorizer = DictVectorizer()\n",
    "\n",
    "vectorizer.fit(counters + dev_counters)\n",
    "\n",
    "vectors = vectorizer.transform(counters)\n",
    "dev_vectors = vectorizer.transform(dev_counters)"
   ]
  },
  {
   "cell_type": "code",
   "execution_count": 69,
   "metadata": {
    "collapsed": false
   },
   "outputs": [],
   "source": [
    "save_sparse_vectors('/home/jack/NLP/csr.npz', vectors, labels)\n",
    "save_sparse_vectors('/home/jack/NLP/dev_csr.npz', dev_vectors, dev_labels)"
   ]
  },
  {
   "cell_type": "code",
   "execution_count": 70,
   "metadata": {
    "collapsed": false
   },
   "outputs": [],
   "source": [
    "loaded_vectors, loaded_labels = load_sparse_csr('/home/jack/NLP/csr.npz')\n",
    "loaded_dev_vectors, loaded_dev_labels = load_sparse_csr('/home/jack/NLP/dev_csr.npz')"
   ]
  },
  {
   "cell_type": "code",
   "execution_count": 86,
   "metadata": {
    "collapsed": false
   },
   "outputs": [],
   "source": [
    "#random_state gives the seeed, none seams to always give the same result\n",
    "perceptron = Perceptron(shuffle=True, n_iter=5, random_state=None)\n",
    "perceptron = perceptron.fit(loaded_vectors, loaded_labels)\n",
    "score = perceptron.score(loaded_dev_vectors, loaded_dev_labels)\n",
    "print score"
   ]
  },
  {
   "cell_type": "code",
   "execution_count": 25,
   "metadata": {
    "collapsed": false
   },
   "outputs": [
    {
     "name": "stdout",
     "output_type": "stream",
     "text": [
      "0.6652\n"
     ]
    }
   ],
   "source": [
    "correct = 0\n",
    "for i in range(0,10000):\n",
    "    if predictions[i] == dev_labels[i]:\n",
    "        correct += 1\n",
    "\n",
    "print correct / 10000.0"
   ]
  },
  {
   "cell_type": "code",
   "execution_count": 68,
   "metadata": {
    "collapsed": false
   },
   "outputs": [],
   "source": [
    "def save_sparse_vectors(file_name, array, labels):\n",
    "    np.savez(file_name, data = array.data, indices = array.indices, indptr = array.indptr, shape = array.shape, label_data = labels)\n",
    "\n",
    "def load_sparse_vectors(file_name):\n",
    "    loader = np.load(file_name)\n",
    "    return (csr_matrix((loader['data'], loader['indices'], loader['indptr']), shape = loader['shape']), loader['label_data'])"
   ]
  },
  {
   "cell_type": "code",
   "execution_count": 64,
   "metadata": {
    "collapsed": false
   },
   "outputs": [],
   "source": [
    "def cross_unigram(sentence1, sentence2, stop_list):\n",
    "    split1 = [i for i in re.findall(\"\\w+\", sentence1.lower()) if i not in stop_list]\n",
    "    split2 = [i for i in re.findall(\"\\w+\", sentence2.lower()) if i not in stop_list]\n",
    "    \n",
    "    cross_unigrams = []\n",
    "    for word1 in split1:\n",
    "        for word2 in split2:\n",
    "            cross_unigrams.append((word1,word2))\n",
    "    \n",
    "    return cross_unigrams"
   ]
  },
  {
   "cell_type": "code",
   "execution_count": 62,
   "metadata": {
    "collapsed": true
   },
   "outputs": [],
   "source": [
    "def cross_unigram_counter(sentence1, sentence2):\n",
    "    unigrams = [hash(i) for i in cross_unigram(sentence1, sentence2, STOP)]\n",
    "    counter = col.Counter(unigrams)\n",
    "    return counter"
   ]
  },
  {
   "cell_type": "code",
   "execution_count": null,
   "metadata": {
    "collapsed": true
   },
   "outputs": [],
   "source": []
  }
 ],
 "metadata": {
  "kernelspec": {
   "display_name": "Python 2",
   "language": "python",
   "name": "python2"
  },
  "language_info": {
   "codemirror_mode": {
    "name": "ipython",
    "version": 2
   },
   "file_extension": ".py",
   "mimetype": "text/x-python",
   "name": "python",
   "nbconvert_exporter": "python",
   "pygments_lexer": "ipython2",
   "version": "2.7.11"
  }
 },
 "nbformat": 4,
 "nbformat_minor": 0
}
